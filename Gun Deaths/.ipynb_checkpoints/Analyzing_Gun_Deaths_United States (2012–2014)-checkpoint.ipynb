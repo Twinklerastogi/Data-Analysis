{
 "cells": [
  {
   "cell_type": "markdown",
   "metadata": {},
   "source": [
    "# Analyzing Gun Deaths in the United States (2012–2014)\n",
    "\n",
    "\n",
    "\n",
    "\n",
    "\n",
    "\n",
    "\n",
    "\n",
    "\n",
    "\n",
    "The study analyzes gun deaths in the United States of America between 2012 and 2014"
   ]
  },
  {
   "cell_type": "markdown",
   "metadata": {},
   "source": [
    "This report will try to answer the following questions.\n",
    "\n",
    "* What is the number of annual suicide gun deaths in the United State from 2012 to  2014.\n",
    "* What is the number of gun deaths by race in the United States per 100,000 people from 2012 to 2014?\n",
    "* What is the annual number of gun deaths in the United States on average from 2012 to 2014, by cause?\n",
    "* What is the percentage per 100,000 people of annual gun deaths in the United States from 2012 to 2014, by cause?\n",
    "* What is the percentage of annual suicide gun deaths in the United States from 2012 to 2014, by year?"
   ]
  },
  {
   "cell_type": "markdown",
   "metadata": {},
   "source": [
    "## Data Gathering \n",
    "\n",
    "The data set for study comes from GitHub and can be accessed here:\n",
    "\n",
    "https://github.com/fivethirtyeight/guns-data.git\n",
    "\n",
    "\n"
   ]
  },
  {
   "cell_type": "markdown",
   "metadata": {},
   "source": [
    "### Importing modules and reading Data set"
   ]
  },
  {
   "cell_type": "code",
   "execution_count": 1,
   "metadata": {
    "ExecuteTime": {
     "end_time": "2020-10-03T08:36:06.412162Z",
     "start_time": "2020-10-03T08:36:04.122951Z"
    }
   },
   "outputs": [],
   "source": [
    "import pandas as pd\n",
    "import numpy as np\n",
    "import matplotlib.pyplot as plt\n",
    "import seaborn as sns\n",
    "sns.set_style('darkgrid')"
   ]
  },
  {
   "cell_type": "code",
   "execution_count": 2,
   "metadata": {
    "ExecuteTime": {
     "end_time": "2020-10-03T08:36:06.710363Z",
     "start_time": "2020-10-03T08:36:06.415156Z"
    }
   },
   "outputs": [],
   "source": [
    "ds = pd.read_csv('full_data.csv', index_col = 0)"
   ]
  },
  {
   "cell_type": "code",
   "execution_count": 3,
   "metadata": {
    "ExecuteTime": {
     "end_time": "2020-10-03T08:36:06.746267Z",
     "start_time": "2020-10-03T08:36:06.713356Z"
    }
   },
   "outputs": [
    {
     "data": {
      "text/html": [
       "<div>\n",
       "<style scoped>\n",
       "    .dataframe tbody tr th:only-of-type {\n",
       "        vertical-align: middle;\n",
       "    }\n",
       "\n",
       "    .dataframe tbody tr th {\n",
       "        vertical-align: top;\n",
       "    }\n",
       "\n",
       "    .dataframe thead th {\n",
       "        text-align: right;\n",
       "    }\n",
       "</style>\n",
       "<table border=\"1\" class=\"dataframe\">\n",
       "  <thead>\n",
       "    <tr style=\"text-align: right;\">\n",
       "      <th></th>\n",
       "      <th>year</th>\n",
       "      <th>month</th>\n",
       "      <th>intent</th>\n",
       "      <th>police</th>\n",
       "      <th>sex</th>\n",
       "      <th>age</th>\n",
       "      <th>race</th>\n",
       "      <th>hispanic</th>\n",
       "      <th>place</th>\n",
       "      <th>education</th>\n",
       "    </tr>\n",
       "  </thead>\n",
       "  <tbody>\n",
       "    <tr>\n",
       "      <th>1</th>\n",
       "      <td>2012</td>\n",
       "      <td>1</td>\n",
       "      <td>Suicide</td>\n",
       "      <td>0</td>\n",
       "      <td>M</td>\n",
       "      <td>34.0</td>\n",
       "      <td>Asian/Pacific Islander</td>\n",
       "      <td>100</td>\n",
       "      <td>Home</td>\n",
       "      <td>BA+</td>\n",
       "    </tr>\n",
       "    <tr>\n",
       "      <th>2</th>\n",
       "      <td>2012</td>\n",
       "      <td>1</td>\n",
       "      <td>Suicide</td>\n",
       "      <td>0</td>\n",
       "      <td>F</td>\n",
       "      <td>21.0</td>\n",
       "      <td>White</td>\n",
       "      <td>100</td>\n",
       "      <td>Street</td>\n",
       "      <td>Some college</td>\n",
       "    </tr>\n",
       "    <tr>\n",
       "      <th>3</th>\n",
       "      <td>2012</td>\n",
       "      <td>1</td>\n",
       "      <td>Suicide</td>\n",
       "      <td>0</td>\n",
       "      <td>M</td>\n",
       "      <td>60.0</td>\n",
       "      <td>White</td>\n",
       "      <td>100</td>\n",
       "      <td>Other specified</td>\n",
       "      <td>BA+</td>\n",
       "    </tr>\n",
       "    <tr>\n",
       "      <th>4</th>\n",
       "      <td>2012</td>\n",
       "      <td>2</td>\n",
       "      <td>Suicide</td>\n",
       "      <td>0</td>\n",
       "      <td>M</td>\n",
       "      <td>64.0</td>\n",
       "      <td>White</td>\n",
       "      <td>100</td>\n",
       "      <td>Home</td>\n",
       "      <td>BA+</td>\n",
       "    </tr>\n",
       "    <tr>\n",
       "      <th>5</th>\n",
       "      <td>2012</td>\n",
       "      <td>2</td>\n",
       "      <td>Suicide</td>\n",
       "      <td>0</td>\n",
       "      <td>M</td>\n",
       "      <td>31.0</td>\n",
       "      <td>White</td>\n",
       "      <td>100</td>\n",
       "      <td>Other specified</td>\n",
       "      <td>HS/GED</td>\n",
       "    </tr>\n",
       "  </tbody>\n",
       "</table>\n",
       "</div>"
      ],
      "text/plain": [
       "   year  month   intent  police sex   age                    race  hispanic  \\\n",
       "1  2012      1  Suicide       0   M  34.0  Asian/Pacific Islander       100   \n",
       "2  2012      1  Suicide       0   F  21.0                   White       100   \n",
       "3  2012      1  Suicide       0   M  60.0                   White       100   \n",
       "4  2012      2  Suicide       0   M  64.0                   White       100   \n",
       "5  2012      2  Suicide       0   M  31.0                   White       100   \n",
       "\n",
       "             place     education  \n",
       "1             Home           BA+  \n",
       "2           Street  Some college  \n",
       "3  Other specified           BA+  \n",
       "4             Home           BA+  \n",
       "5  Other specified        HS/GED  "
      ]
     },
     "execution_count": 3,
     "metadata": {},
     "output_type": "execute_result"
    }
   ],
   "source": [
    "ds.head()"
   ]
  },
  {
   "cell_type": "markdown",
   "metadata": {},
   "source": [
    "Organize dataset by year and month"
   ]
  },
  {
   "cell_type": "code",
   "execution_count": 4,
   "metadata": {
    "ExecuteTime": {
     "end_time": "2020-10-03T08:36:06.887889Z",
     "start_time": "2020-10-03T08:36:06.749261Z"
    }
   },
   "outputs": [],
   "source": [
    "dsGun = ds.sort_values(['year', 'month'])"
   ]
  },
  {
   "cell_type": "markdown",
   "metadata": {},
   "source": [
    "## Data Analysis\n",
    "\n",
    "Now let's look at the data and make some analysis.\n",
    "\n",
    "\n"
   ]
  },
  {
   "cell_type": "markdown",
   "metadata": {},
   "source": [
    "### How many males and females are included in this study?"
   ]
  },
  {
   "cell_type": "code",
   "execution_count": 5,
   "metadata": {
    "ExecuteTime": {
     "end_time": "2020-10-03T08:36:06.992610Z",
     "start_time": "2020-10-03T08:36:06.890882Z"
    }
   },
   "outputs": [],
   "source": [
    "count = dsGun['sex'].value_counts()\n",
    "s = count.sum()"
   ]
  },
  {
   "cell_type": "code",
   "execution_count": 6,
   "metadata": {
    "ExecuteTime": {
     "end_time": "2020-10-03T08:36:07.383567Z",
     "start_time": "2020-10-03T08:36:06.995603Z"
    }
   },
   "outputs": [
    {
     "data": {
      "image/png": "[encoded data removed]",
      "text/plain": [
       "<Figure size 432x288 with 1 Axes>"
      ]
     },
     "metadata": {},
     "output_type": "display_data"
    }
   ],
   "source": [
    "ax = sns.countplot(dsGun['sex'])\n",
    "ax.set_title(\"Females and Males\")\n",
    "c = 0\n",
    "for i in count:\n",
    "    plt.text(-0.18+c,i,str(int((i/s)*100)+c)+'%',fontsize=12)\n",
    "    c+=1\n",
    "    "
   ]
  },
  {
   "cell_type": "markdown",
   "metadata": {},
   "source": [
    "### How many educated females are included in this study?\n",
    "\n",
    "As shown above, there are 14,243 educated females involved in this study.\n",
    "Lets, Group the data set by gender."
   ]
  },
  {
   "cell_type": "code",
   "execution_count": 7,
   "metadata": {
    "ExecuteTime": {
     "end_time": "2020-10-03T08:36:07.430438Z",
     "start_time": "2020-10-03T08:36:07.386557Z"
    }
   },
   "outputs": [
    {
     "data": {
      "text/plain": [
       "sex\n",
       "F    14243\n",
       "Name: education, dtype: int64"
      ]
     },
     "execution_count": 7,
     "metadata": {},
     "output_type": "execute_result"
    }
   ],
   "source": [
    "data = dsGun[(dsGun['sex']=='F')]\n",
    "data = data.groupby('sex').count()\n",
    "data['education']"
   ]
  },
  {
   "cell_type": "markdown",
   "metadata": {},
   "source": [
    "### What is the number of suicide gun deaths in the United States from 2012 to 2014, by gender?"
   ]
  },
  {
   "cell_type": "code",
   "execution_count": 8,
   "metadata": {
    "ExecuteTime": {
     "end_time": "2020-10-03T08:36:07.591009Z",
     "start_time": "2020-10-03T08:36:07.436425Z"
    }
   },
   "outputs": [],
   "source": [
    "data = dsGun[(dsGun['intent']=='Suicide')]\n",
    "data = data.groupby('sex').count()\n",
    "data.reset_index(inplace = True)"
   ]
  },
  {
   "cell_type": "code",
   "execution_count": 9,
   "metadata": {
    "ExecuteTime": {
     "end_time": "2020-10-03T08:36:07.948055Z",
     "start_time": "2020-10-03T08:36:07.594002Z"
    },
    "scrolled": true
   },
   "outputs": [
    {
     "data": {
      "image/png": "[encoded data removed]",
      "text/plain": [
       "<Figure size 432x288 with 1 Axes>"
      ]
     },
     "metadata": {},
     "output_type": "display_data"
    }
   ],
   "source": [
    "ax = sns.barplot(x='sex', y='intent', data=data)\n",
    "ax.set_title('Number of suicide gun deaths by gender')\n",
    "#percentage\n",
    "tot = data['intent'].sum()\n",
    "c=0\n",
    "for i in data['intent']:\n",
    "    plt.text(-0.13+c,i,str(int((i/tot)*100)+c)+'%',fontsize=12)\n",
    "    c+=1"
   ]
  },
  {
   "cell_type": "markdown",
   "metadata": {},
   "source": [
    "### What is the number of gun deaths by race in the United States per 100,000 people from 2012 to 2014?"
   ]
  },
  {
   "cell_type": "code",
   "execution_count": 10,
   "metadata": {
    "ExecuteTime": {
     "end_time": "2020-10-03T08:36:08.308093Z",
     "start_time": "2020-10-03T08:36:07.951048Z"
    }
   },
   "outputs": [
    {
     "data": {
      "image/png": "[encoded data removed]",
      "text/plain": [
       "<Figure size 432x288 with 1 Axes>"
      ]
     },
     "metadata": {},
     "output_type": "display_data"
    }
   ],
   "source": [
    "dsRace = dsGun['race'].value_counts()*100/100000\n",
    "ax = sns.barplot(x=dsRace.index,y=dsRace.values)\n",
    "ax.set_title('Number of gun death by race')\n",
    "for item in ax.get_xticklabels():\n",
    "    item.set_rotation(90)\n",
    "    \n",
    "\n",
    "c=0\n",
    "for i in dsRace.values:\n",
    "    ax.text(c-0.13, i+0.1, str(i)+'%',fontsize=10)\n",
    "    c=c+1"
   ]
  },
  {
   "cell_type": "markdown",
   "metadata": {},
   "source": [
    "### What is the percentage of gun deaths in the United States on average from 2012 to 2014, by cause?"
   ]
  },
  {
   "cell_type": "markdown",
   "metadata": {},
   "source": [
    "Number of deaths in the United state"
   ]
  },
  {
   "cell_type": "code",
   "execution_count": 11,
   "metadata": {
    "ExecuteTime": {
     "end_time": "2020-10-03T08:36:08.340014Z",
     "start_time": "2020-10-03T08:36:08.311086Z"
    }
   },
   "outputs": [
    {
     "data": {
      "text/plain": [
       "Suicide         63175\n",
       "Homicide        35176\n",
       "Accidental       1639\n",
       "Undetermined      807\n",
       "Name: intent, dtype: int64"
      ]
     },
     "execution_count": 11,
     "metadata": {},
     "output_type": "execute_result"
    }
   ],
   "source": [
    "cause = dsGun['intent'].value_counts()\n",
    "cause"
   ]
  },
  {
   "cell_type": "code",
   "execution_count": 12,
   "metadata": {
    "ExecuteTime": {
     "end_time": "2020-10-03T08:36:08.790801Z",
     "start_time": "2020-10-03T08:36:08.343996Z"
    }
   },
   "outputs": [
    {
     "data": {
      "image/png": "[encoded data removed]",
      "text/plain": [
       "<Figure size 432x288 with 1 Axes>"
      ]
     },
     "metadata": {},
     "output_type": "display_data"
    }
   ],
   "source": [
    "\n",
    "ax = sns.barplot(x=cause.index, y=cause.values)\n",
    "ax.set_title('Percentage of gun deaths')\n",
    "c=0\n",
    "for i in cause.values:\n",
    "    plt.text(-0.13+c,i,('{:.2f}%'.format(((i)/cause.sum()*100))),fontsize=12)\n",
    "    c+=1\n",
    "\n"
   ]
  },
  {
   "cell_type": "markdown",
   "metadata": {},
   "source": [
    "### What is the percentage of suicide gun deaths in the United States from 2012 to 2014, by year?"
   ]
  },
  {
   "cell_type": "code",
   "execution_count": 13,
   "metadata": {
    "ExecuteTime": {
     "end_time": "2020-10-03T08:36:08.846655Z",
     "start_time": "2020-10-03T08:36:08.793793Z"
    }
   },
   "outputs": [],
   "source": [
    "data = dsGun[(dsGun['intent']=='Suicide')]\n",
    "death = data.groupby('year')['intent'].count()"
   ]
  },
  {
   "cell_type": "code",
   "execution_count": 14,
   "metadata": {
    "ExecuteTime": {
     "end_time": "2020-10-03T08:36:09.197713Z",
     "start_time": "2020-10-03T08:36:08.855628Z"
    }
   },
   "outputs": [
    {
     "data": {
      "image/png": "[encoded data removed]",
      "text/plain": [
       "<Figure size 432x288 with 1 Axes>"
      ]
     },
     "metadata": {},
     "output_type": "display_data"
    }
   ],
   "source": [
    "ax = sns.barplot(x=death.index, y=death.values)\n",
    "c=0\n",
    "ax.set_title('Suicide gun deaths in United States')\n",
    "for i in death.values:\n",
    "    plt.text(-0.13+c,i,('{:.2f}%'.format(((i)/death.sum()*100))),fontsize=12)\n",
    "    c+=1"
   ]
  },
  {
   "cell_type": "markdown",
   "metadata": {},
   "source": [
    "## Conclusion"
   ]
  },
  {
   "cell_type": "markdown",
   "metadata": {},
   "source": [
    "* There are huge differences between males and females. The number of male suicides by gun is **above 50,000**, while the female death rate is **below 10,000**, which shows how males are more likely to commit suicide using a gun.\n",
    "* The highest death rate was for white people, then black, and then Hispanic. There are a few other races listed, but the rates are small comparatively.\n",
    "* Almost the **same number** of suicides each year over **three years**.\n",
    " "
   ]
  }
 ],
 "metadata": {
  "hide_input": false,
  "kernelspec": {
   "display_name": "Python 3",
   "language": "python",
   "name": "python3"
  },
  "language_info": {
   "codemirror_mode": {
    "name": "ipython",
    "version": 3
   },
   "file_extension": ".py",
   "mimetype": "text/x-python",
   "name": "python",
   "nbconvert_exporter": "python",
   "pygments_lexer": "ipython3",
   "version": "3.7.7"
  },
  "toc": {
   "base_numbering": 1,
   "nav_menu": {},
   "number_sections": true,
   "sideBar": true,
   "skip_h1_title": false,
   "title_cell": "Table of Contents",
   "title_sidebar": "Contents",
   "toc_cell": false,
   "toc_position": {},
   "toc_section_display": true,
   "toc_window_display": false
  },
  "varInspector": {
   "cols": {
    "lenName": 16,
    "lenType": 16,
    "lenVar": 40
   },
   "kernels_config": {
    "python": {
     "delete_cmd_postfix": "",
     "delete_cmd_prefix": "del ",
     "library": "var_list.py",
     "varRefreshCmd": "print(var_dic_list())"
    },
    "r": {
     "delete_cmd_postfix": ") ",
     "delete_cmd_prefix": "rm(",
     "library": "var_list.r",
     "varRefreshCmd": "cat(var_dic_list()) "
    }
   },
   "types_to_exclude": [
    "module",
    "function",
    "builtin_function_or_method",
    "instance",
    "_Feature"
   ],
   "window_display": false
  }
 },
 "nbformat": 4,
 "nbformat_minor": 2
}
